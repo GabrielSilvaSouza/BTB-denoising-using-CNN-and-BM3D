{
 "cells": [
  {
   "cell_type": "code",
   "execution_count": null,
   "metadata": {},
   "outputs": [],
   "source": [
    "import torch\n",
    "import torch.nn as nn\n",
    "from torch.utils.data import Dataset, DataLoader\n",
    "import torchvision.transforms as transforms\n",
    "import torch.optim as optim\n",
    "import os\n",
    "from PIL import Image\n",
    "import matplotlib.pyplot as plt"
   ]
  },
  {
   "cell_type": "code",
   "execution_count": null,
   "metadata": {},
   "outputs": [],
   "source": [
    "class SeismicSet(Dataset):\n",
    "    def __init__(self, img_path, sigma, transforms=None):\n",
    "        self.img_path = img_path\n",
    "        self.transforms = transforms\n",
    "        self.imgs = os.listdir(img_path)\n",
    "        self.sigma = sigma\n",
    "\n",
    "    def __len__(self):\n",
    "        return len(self.imgs)\n",
    "    \n",
    "    def __getitem__(self, idx):\n",
    "        path_file = os.path.join(self.img_path, self.imgs[idx])\n",
    "        clean = Image.open(path_file).convert(\"RGB\")\n",
    "        \n",
    "        transform = transforms.Compose([\n",
    "            transforms.Resize((256, 256)),  # Resize images to 256x256\n",
    "            transforms.ToTensor()  # Convert images to tensors\n",
    "        ])\n",
    "\n",
    "        clean = transform(clean)\n",
    "        noise = torch.randn(clean.shape) * self.sigma\n",
    "        noisy = clean + noise\n",
    "        \n",
    "        return noisy, clean "
   ]
  },
  {
   "cell_type": "code",
   "execution_count": null,
   "metadata": {},
   "outputs": [],
   "source": [
    "class FFCNN(nn.Module):\n",
    "    def __init__(self):\n",
    "        super(FFCNN, self).__init__()\n",
    "        \n",
    "        self.encoder = nn.Sequential(\n",
    "            nn.Conv2d(3, 64, kernel_size=3, padding=1),  # Assuming input images are RGB\n",
    "            nn.ReLU(),\n",
    "            nn.Conv2d(64, 32, kernel_size=3, padding=1),\n",
    "            nn.ReLU(),\n",
    "            nn.Conv2d(32, 16, kernel_size=3, padding=1),\n",
    "            nn.ReLU()\n",
    "        )\n",
    "        \n",
    "        self.decoder = nn.Sequential(\n",
    "            nn.ConvTranspose2d(16, 32, kernel_size=3, padding=1),\n",
    "            nn.ReLU(),\n",
    "            nn.ConvTranspose2d(32, 64, kernel_size=3, padding=1),\n",
    "            nn.ReLU(),\n",
    "            nn.ConvTranspose2d(64, 3, kernel_size=3, padding=1),\n",
    "            nn.Sigmoid()  # Use sigmoid to ensure output is between 0 and 1\n",
    "        )\n",
    "        \n",
    "    def forward(self, x):\n",
    "        x = self.encoder(x)\n",
    "        x = self.decoder(x)\n",
    "        return x\n"
   ]
  },
  {
   "cell_type": "code",
   "execution_count": null,
   "metadata": {},
   "outputs": [],
   "source": [
    "device = torch.device(\"cuda\" if torch.cuda.is_available() else \"cpu\")"
   ]
  },
  {
   "cell_type": "code",
   "execution_count": null,
   "metadata": {},
   "outputs": [],
   "source": [
    "dataset = SeismicSet('d:\\\\synthetic', sigma=0.1)\n",
    "\n",
    "\n",
    "train_loader = DataLoader(dataset, batch_size=32, shuffle=True)"
   ]
  },
  {
   "cell_type": "code",
   "execution_count": null,
   "metadata": {},
   "outputs": [],
   "source": [
    "model = FFCNN().to(device)\n",
    "criterion = nn.MSELoss()\n",
    "optimizer = optim.Adam(model.parameters(), lr=0.001)"
   ]
  },
  {
   "cell_type": "code",
   "execution_count": null,
   "metadata": {},
   "outputs": [],
   "source": [
    "num_epochs = 20\n",
    "for epoch in range(num_epochs):\n",
    "    running_loss = 0.0\n",
    "    for noisy_images, clean_images in train_loader: \n",
    "        noisy_images, clean_images = noisy_images.to(device), clean_images.to(device)\n",
    "        optimizer.zero_grad()\n",
    "        outputs = model(noisy_images)  \n",
    "        outputs = outputs[:, :, :256, :256]  # Trim the output to match the size of clean_images\n",
    "        loss = criterion(outputs, clean_images)  \n",
    "        loss.backward()\n",
    "        optimizer.step()\n",
    "        running_loss += loss.item()\n",
    "    print(f\"Epoch [{epoch + 1}/{num_epochs}], Loss: {running_loss / len(train_loader):.4f}\")\n",
    "\n",
    "print('Training Finished')"
   ]
  },
  {
   "cell_type": "code",
   "execution_count": null,
   "metadata": {},
   "outputs": [],
   "source": [
    "noisy_images, clean_images = next(iter(train_loader))\n",
    "noisy_image = noisy_images[0].unsqueeze(0).to(device)\n",
    "\n",
    "\n",
    "with torch.no_grad():\n",
    "    denoised_image = model(noisy_image)\n",
    "\n",
    "\n",
    "noisy_image = noisy_image.squeeze().permute(1, 2, 0).cpu().numpy()\n",
    "denoised_image = denoised_image.squeeze().permute(1, 2, 0).cpu().numpy()\n",
    "\n",
    "\n",
    "plt.figure(figsize=(10, 5))\n",
    "\n",
    "plt.subplot(1, 2, 1)\n",
    "plt.imshow(noisy_image)\n",
    "plt.title('Noisy Image')\n",
    "plt.axis('off')\n",
    "\n",
    "plt.subplot(1, 2, 2)\n",
    "plt.imshow(denoised_image)\n",
    "plt.title('Denoised Image')\n",
    "plt.axis('off')\n",
    "\n",
    "plt.show()"
   ]
  }
 ],
 "metadata": {
  "kernelspec": {
   "display_name": "Python 3",
   "language": "python",
   "name": "python3"
  },
  "language_info": {
   "codemirror_mode": {
    "name": "ipython",
    "version": 3
   },
   "file_extension": ".py",
   "mimetype": "text/x-python",
   "name": "python",
   "nbconvert_exporter": "python",
   "pygments_lexer": "ipython3",
   "version": "3.11.5"
  }
 },
 "nbformat": 4,
 "nbformat_minor": 2
}
