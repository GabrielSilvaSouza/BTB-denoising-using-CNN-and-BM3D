{
 "cells": [
  {
   "cell_type": "code",
   "execution_count": 7,
   "metadata": {},
   "outputs": [],
   "source": [
    "import torch\n",
    "import matplotlib.pyplot as plt\n",
    "from PIL import Image\n",
    "import torchvision.transforms.functional as TF"
   ]
  },
  {
   "cell_type": "code",
   "execution_count": 10,
   "metadata": {},
   "outputs": [
    {
     "ename": "NameError",
     "evalue": "name 'TF' is not defined",
     "output_type": "error",
     "traceback": [
      "\u001b[1;31m---------------------------------------------------------------------------\u001b[0m",
      "\u001b[1;31mNameError\u001b[0m                                 Traceback (most recent call last)",
      "Cell \u001b[1;32mIn[10], line 9\u001b[0m\n\u001b[0;32m      6\u001b[0m width, height \u001b[38;5;241m=\u001b[39m clean\u001b[38;5;241m.\u001b[39msize\n\u001b[0;32m      7\u001b[0m noise \u001b[38;5;241m=\u001b[39m torch\u001b[38;5;241m.\u001b[39mrandn(height, width, \u001b[38;5;241m3\u001b[39m) \u001b[38;5;241m*\u001b[39m sigma  \u001b[38;5;66;03m# assuming 3 channels for RGB\u001b[39;00m\n\u001b[1;32m----> 9\u001b[0m clean_tensor \u001b[38;5;241m=\u001b[39m \u001b[43mTF\u001b[49m\u001b[38;5;241m.\u001b[39mto_tensor(clean)  \u001b[38;5;66;03m# Convert PIL Image to PyTorch tensor\u001b[39;00m\n\u001b[0;32m     10\u001b[0m noisy_tensor \u001b[38;5;241m=\u001b[39m clean_tensor \u001b[38;5;241m+\u001b[39m noise\n\u001b[0;32m     12\u001b[0m \u001b[38;5;66;03m# Convert the noisy tensor back to a PIL Image\u001b[39;00m\n",
      "\u001b[1;31mNameError\u001b[0m: name 'TF' is not defined"
     ]
    }
   ],
   "source": [
    "sigma = 0.1\n",
    "\n",
    "path_file = 'd:\\\\synthetic\\\\seismic_data__I_3.png'\n",
    "clean = Image.open(path_file).convert(\"RGB\")\n",
    "\n",
    "noise = torch.randn(clean.shape) * sigma\n",
    "noisy = clean + noise\n"
   ]
  },
  {
   "cell_type": "code",
   "execution_count": null,
   "metadata": {},
   "outputs": [],
   "source": [
    "plt.subplot(1, 2, 2)\n",
    "plt.imshow(noisy)\n",
    "plt.title('Denoised Image')\n",
    "plt.axis('off')\n",
    "\n",
    "plt.show()"
   ]
  }
 ],
 "metadata": {
  "kernelspec": {
   "display_name": "Python 3",
   "language": "python",
   "name": "python3"
  },
  "language_info": {
   "codemirror_mode": {
    "name": "ipython",
    "version": 3
   },
   "file_extension": ".py",
   "mimetype": "text/x-python",
   "name": "python",
   "nbconvert_exporter": "python",
   "pygments_lexer": "ipython3",
   "version": "3.11.5"
  }
 },
 "nbformat": 4,
 "nbformat_minor": 2
}
