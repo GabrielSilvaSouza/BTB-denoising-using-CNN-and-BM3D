{
 "cells": [
  {
   "cell_type": "code",
   "execution_count": null,
   "metadata": {},
   "outputs": [],
   "source": [
    "import cv2\n",
    "import numpy as np\n",
    "import matplotlib.pyplot as plt\n",
    "from skimage import img_as_float, io, restoration\n",
    "from bm3d import bm3d"
   ]
  },
  {
   "cell_type": "code",
   "execution_count": null,
   "metadata": {},
   "outputs": [],
   "source": [
    "def fast_iterative_denoising_btb(y, f, mu_sequence, T, delta):\n",
    "    \"\"\"\n",
    "    Fast Iterative Denoising Algorithm (BTB)\n",
    "\n",
    "    Parameters:\n",
    "        y: Input image (noisy)\n",
    "        f: Denoiser function\n",
    "        mu_sequence: Sequence of step sizes\n",
    "        T: Maximum number of iterations\n",
    "        delta: Convergence threshold\n",
    "\n",
    "    Returns:\n",
    "        x_denoised: Denoised image\n",
    "    \"\"\"\n",
    "    x_prev = y.copy()  # Initialize previous denoised image as noisy image\n",
    "    \n",
    "    for t in range(T):\n",
    "        x_next = f(x_prev)  # Apply denoiser function to previous denoised image\n",
    "        \n",
    "        # Update current denoised image using hybrid Banach contraction principle\n",
    "        x_current = (1 - mu_sequence[t]) * x_prev + mu_sequence[t] * x_next\n",
    "        \n",
    "        # Check convergence criterion\n",
    "        if np.linalg.norm(x_current - x_prev) < delta:\n",
    "            break  # Stop iteration if convergence criterion is met\n",
    "        \n",
    "        x_prev = x_current  # Update previous denoised image\n",
    "        \n",
    "    return x_current"
   ]
  },
  {
   "cell_type": "code",
   "execution_count": null,
   "metadata": {},
   "outputs": [],
   "source": [
    "img_path = \"C:\\\\Users\\\\Gabriel\\\\Documents\\\\lena.jpg\"\n",
    "\n",
    "image = cv2.imread(img_path, cv2.IMREAD_COLOR)\n",
    "\n",
    "noisy_image = img_as_float(image)"
   ]
  },
  {
   "cell_type": "code",
   "execution_count": null,
   "metadata": {},
   "outputs": [],
   "source": [
    "def denoiser_bm3d(image):\n",
    "    return bm3d(image, 0.1)"
   ]
  },
  {
   "cell_type": "code",
   "execution_count": null,
   "metadata": {},
   "outputs": [],
   "source": [
    "mu_sequence = np.linspace(0.1, 0.1, 8)\n",
    "T = 8\n",
    "delta = 1e-4\n",
    "\n",
    "# Apply the Fast Iterative Denoising Algorithm (BTB)\n",
    "denoised_image = fast_iterative_denoising_btb(noisy_image, denoiser_bm3d, mu_sequence, T, delta)"
   ]
  },
  {
   "cell_type": "code",
   "execution_count": null,
   "metadata": {},
   "outputs": [],
   "source": [
    "plt.figure(figsize=(10, 5))\n",
    "plt.subplot(1, 2, 1)\n",
    "plt.imshow(noisy_image, cmap='gray')\n",
    "plt.title('Noisy Image')\n",
    "plt.axis('off')\n",
    "\n",
    "plt.subplot(1, 2, 2)\n",
    "plt.imshow(denoised_image, cmap='gray')\n",
    "plt.title('Denoised Image (BTB)')\n",
    "plt.axis('off')\n",
    "\n",
    "plt.show()"
   ]
  }
 ],
 "metadata": {
  "language_info": {
   "name": "python"
  }
 },
 "nbformat": 4,
 "nbformat_minor": 2
}
